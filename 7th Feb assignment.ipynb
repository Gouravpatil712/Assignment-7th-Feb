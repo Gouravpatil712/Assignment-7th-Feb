{
 "cells": [
  {
   "cell_type": "markdown",
   "id": "4904b827-a315-4426-b6ac-c982b86fb525",
   "metadata": {},
   "source": [
    "## Question 01 - You are writing code for a company. The requirement of the company is that you create a python function that will check whether the password entered by the user is correct or not. The function should take the password as input and return the string “Valid Password” if the entered password follows the below-given password guidelines else it should return “Invalid Password”.\n",
    "Note: 1. The Password should contain at least two uppercase letters and at least two lowercase letters.\n",
    "2. The Password should contain at least a number and three special characters.\n",
    "3. The length of the password should be 10 characters long."
   ]
  },
  {
   "cell_type": "code",
   "execution_count": 1,
   "id": "0755d4fa-37f2-49e1-aa9b-f5ba3fb9f2ef",
   "metadata": {},
   "outputs": [],
   "source": [
    "# Answer :- \n",
    "\n",
    "def check_password(password):\n",
    "    # Check if the password length is 10 characters\n",
    "    if len(password) != 10:\n",
    "        return \"Invalid Password\"\n",
    "    \n",
    "    # Count the number of uppercase letters, lowercase letters, numbers, and special characters\n",
    "    num_upper = 0\n",
    "    num_lower = 0\n",
    "    num_num = 0\n",
    "    num_special = 0\n",
    "    for char in password:\n",
    "        if char.isupper():\n",
    "            num_upper += 1\n",
    "        elif char.islower():\n",
    "            num_lower += 1\n",
    "        elif char.isdigit():\n",
    "            num_num += 1\n",
    "        else:\n",
    "            num_special += 1\n",
    "    \n",
    "    # Check if the password meets the guidelines\n",
    "    if num_upper >= 2 and num_lower >= 2 and num_num >= 1 and num_special >= 3:\n",
    "        return \"Valid Password\"\n",
    "    else:\n",
    "        return \"Invalid Password\""
   ]
  },
  {
   "cell_type": "code",
   "execution_count": 2,
   "id": "e4405942-931c-4a28-a4d6-d7ed0ab42792",
   "metadata": {},
   "outputs": [
    {
     "name": "stdout",
     "output_type": "stream",
     "text": [
      "Invalid Password\n"
     ]
    }
   ],
   "source": [
    "password = \"Abcdefg123!!!\"\n",
    "result = check_password(password)\n",
    "print(result)  # This will output \"Valid Password\""
   ]
  },
  {
   "cell_type": "markdown",
   "id": "a4f97936-0e46-42b7-b41a-bb8cb1633bc5",
   "metadata": {},
   "source": [
    "## Question 02 - Q2. Solve the below-given questions using at least one of the following:\n",
    "1. Lambda functioJ\n",
    "2. Filter functioJ\n",
    "3. Zap functioJ\n",
    "4. List ComprehensioI\n",
    "B Check if the string starts with a particular letterY\n",
    "B Check if the string is numericY\n",
    "B Sort a list of tuples having fruit names and their quantity. [(\"mango\",99),(\"orange\",80), (\"grapes\", 1000)-\n",
    "B Find the squares of numbers from 1 to 10Y\n",
    "B Find the cube root of numbers from 1 to 10Y\n",
    "B Check if a given number is evenY\n",
    "B Filter odd numbers from the given list.\n",
    "[1,2,3,4,5,6,7,8,9,10-\n",
    "B Sort a list of integers into positive and negative integers lists.\n",
    "[1,2,3,4,5,6,-1,-2,-3,-4,-5,0]"
   ]
  },
  {
   "cell_type": "markdown",
   "id": "5334c5bf-c6b1-4d9d-98d7-30f95e53a159",
   "metadata": {},
   "source": [
    "## Answer :- Check if the string starts with a particular letter:\n"
   ]
  },
  {
   "cell_type": "code",
   "execution_count": 4,
   "id": "fb4c8c63-ed28-4e66-9800-b8a514410aaf",
   "metadata": {},
   "outputs": [
    {
     "name": "stdout",
     "output_type": "stream",
     "text": [
      "['apple']\n"
     ]
    }
   ],
   "source": [
    "string_list = [\"apple\", \"banana\", \"orange\", \"grape\"]\n",
    "letter = \"a\"\n",
    "\n",
    "filtered_list = list(filter(lambda s: s.startswith(letter), string_list))\n",
    "\n",
    "print(filtered_list)"
   ]
  },
  {
   "cell_type": "markdown",
   "id": "4902b25d-f956-4b03-8849-01a3d82953c8",
   "metadata": {},
   "source": [
    "## Check if the string is numeric:"
   ]
  },
  {
   "cell_type": "code",
   "execution_count": 5,
   "id": "9d5fe6ba-3431-480f-8f17-764680e170db",
   "metadata": {},
   "outputs": [
    {
     "name": "stdout",
     "output_type": "stream",
     "text": [
      "True\n"
     ]
    }
   ],
   "source": [
    "string = \"12345\"\n",
    "is_numeric = string.isnumeric()\n",
    "\n",
    "print(is_numeric)"
   ]
  },
  {
   "cell_type": "markdown",
   "id": "64e7565b-f0a3-4dc5-9d4c-77607803ff29",
   "metadata": {},
   "source": [
    "## Sort a list of tuples having fruit names and their quantity:\n"
   ]
  },
  {
   "cell_type": "code",
   "execution_count": 7,
   "id": "a91b5e98-c0fc-484f-bc3a-f166a428f255",
   "metadata": {},
   "outputs": [
    {
     "name": "stdout",
     "output_type": "stream",
     "text": [
      "[('orange', 80), ('mango', 99), ('grapes', 1000)]\n"
     ]
    }
   ],
   "source": [
    "fruits = [(\"mango\", 99), (\"orange\", 80), (\"grapes\", 1000)]\n",
    "sorted_fruits = sorted(fruits, key=lambda f: f[1])\n",
    "\n",
    "print(sorted_fruits)"
   ]
  },
  {
   "cell_type": "markdown",
   "id": "aa48dfd9-b77e-4e89-9a9d-47ebe73b144c",
   "metadata": {},
   "source": [
    "## Find the squares of numbers from 1 to 10:\n"
   ]
  },
  {
   "cell_type": "code",
   "execution_count": 8,
   "id": "835e3cf9-7a5f-47ee-aa87-f74a1f7e7be9",
   "metadata": {},
   "outputs": [
    {
     "name": "stdout",
     "output_type": "stream",
     "text": [
      "[1, 4, 9, 16, 25, 36, 49, 64, 81, 100]\n"
     ]
    }
   ],
   "source": [
    "squares = [x**2 for x in range(1, 11)]\n",
    "\n",
    "print(squares)"
   ]
  },
  {
   "cell_type": "markdown",
   "id": "c9679e39-8161-4c63-9086-a8e4af732848",
   "metadata": {},
   "source": [
    "## Find the cube root of numbers from 1 to 10:\n"
   ]
  },
  {
   "cell_type": "code",
   "execution_count": 9,
   "id": "aaf153c5-e1e6-4caf-b65c-e9f09b635f23",
   "metadata": {},
   "outputs": [
    {
     "name": "stdout",
     "output_type": "stream",
     "text": [
      "[1.0, 1.2599210498948732, 1.4422495703074083, 1.5874010519681994, 1.7099759466766968, 1.8171205928321397, 1.912931182772389, 2.0, 2.080083823051904, 2.154434690031884]\n"
     ]
    }
   ],
   "source": [
    "import math\n",
    "\n",
    "cube_roots = [math.pow(x, 1/3) for x in range(1, 11)]\n",
    "\n",
    "print(cube_roots)"
   ]
  },
  {
   "cell_type": "markdown",
   "id": "b78f118e-0598-4205-b719-9e66c433f317",
   "metadata": {},
   "source": [
    "## Check if a given number is even:\n"
   ]
  },
  {
   "cell_type": "code",
   "execution_count": 10,
   "id": "e57e4ce1-71f7-4075-a73e-f81962c21338",
   "metadata": {},
   "outputs": [
    {
     "name": "stdout",
     "output_type": "stream",
     "text": [
      "True\n"
     ]
    }
   ],
   "source": [
    "num = 4\n",
    "is_even = num % 2 == 0\n",
    "\n",
    "print(is_even)\n"
   ]
  },
  {
   "cell_type": "markdown",
   "id": "797d92b2-27ce-47b4-b0d8-5a52690b1b78",
   "metadata": {},
   "source": [
    "## Filter odd numbers from the given list:\n"
   ]
  },
  {
   "cell_type": "code",
   "execution_count": 11,
   "id": "575174d7-062c-4236-8a6f-048018018197",
   "metadata": {},
   "outputs": [
    {
     "name": "stdout",
     "output_type": "stream",
     "text": [
      "[1, 3, 5, 7, 9]\n"
     ]
    }
   ],
   "source": [
    "numbers = [1, 2, 3, 4, 5, 6, 7, 8, 9, 10]\n",
    "odd_numbers = list(filter(lambda n: n % 2 != 0, numbers))\n",
    "\n",
    "print(odd_numbers)\n"
   ]
  },
  {
   "cell_type": "markdown",
   "id": "6164dfe8-7ed9-4455-85c2-db46c288252b",
   "metadata": {},
   "source": [
    "## Sort a list of integers into positive and negative integers lists:\n"
   ]
  },
  {
   "cell_type": "code",
   "execution_count": 12,
   "id": "95fde4f8-be01-4608-9a0a-728831552f07",
   "metadata": {},
   "outputs": [
    {
     "name": "stdout",
     "output_type": "stream",
     "text": [
      "[1, 2, 3, 4, 5, 6]\n",
      "[-1, -2, -3, -4, -5]\n"
     ]
    }
   ],
   "source": [
    "numbers = [1, 2, 3, 4, 5, 6, -1, -2, -3, -4, -5, 0]\n",
    "positive_numbers = [n for n in numbers if n > 0]\n",
    "negative_numbers = [n for n in numbers if n < 0]\n",
    "\n",
    "print(positive_numbers)\n",
    "print(negative_numbers)\n"
   ]
  },
  {
   "cell_type": "code",
   "execution_count": null,
   "id": "b2391c43-9d61-4ae5-a27a-c9fb93077404",
   "metadata": {},
   "outputs": [],
   "source": []
  }
 ],
 "metadata": {
  "kernelspec": {
   "display_name": "Python 3 (ipykernel)",
   "language": "python",
   "name": "python3"
  },
  "language_info": {
   "codemirror_mode": {
    "name": "ipython",
    "version": 3
   },
   "file_extension": ".py",
   "mimetype": "text/x-python",
   "name": "python",
   "nbconvert_exporter": "python",
   "pygments_lexer": "ipython3",
   "version": "3.10.8"
  }
 },
 "nbformat": 4,
 "nbformat_minor": 5
}
